{
  "nbformat": 4,
  "nbformat_minor": 0,
  "metadata": {
    "colab": {
      "provenance": []
    },
    "kernelspec": {
      "name": "python3",
      "display_name": "Python 3"
    },
    "language_info": {
      "name": "python"
    }
  },
  "cells": [
    {
      "cell_type": "code",
      "execution_count": 1,
      "metadata": {
        "id": "O93Yx1KqcERl"
      },
      "outputs": [],
      "source": [
        "import sqlite3"
      ]
    },
    {
      "cell_type": "code",
      "source": [
        "connection = sqlite3.connect('task1.sqlite')\n",
        "cursor = connection.cursor()\n",
        "cursor.execute('''CREATE TABLE actors (\n",
        "                id INTEGER PRIMARY KEY,\n",
        "                name TEXT )\n",
        "''')\n",
        "cursor.execute('''CREATE TABLE movies (\n",
        "                id INTEGER PRIMARY KEY,\n",
        "                title TEXT )\n",
        "''')\n",
        "cursor.execute('''CREATE TABLE actor_movie (\n",
        "               actor_id INTEGER,\n",
        "               movie_id INTEGER,\n",
        "               FOREIGN KEY (actor_id) REFERENCES actors(id),\n",
        "               FOREIGN KEY (movie_id) REFERENCES movies(id) )\n",
        "''')\n",
        "connection.commit()\n",
        "connection.close()"
      ],
      "metadata": {
        "id": "VQ6pYnnjcUO5"
      },
      "execution_count": 2,
      "outputs": []
    },
    {
      "cell_type": "code",
      "source": [
        "connectionNetflix = sqlite3.connect('netflix.sqlite')\n",
        "cursorNetflix = connectionNetflix.cursor()\n",
        "cursorNetflix.execute('select title, \"cast\" from netflix_titles')\n",
        "data = cursorNetflix.fetchall()\n",
        "connectionNetflix.close()\n",
        "\n",
        "import re\n",
        "updateData = []\n",
        "uniqueActors = set()\n",
        "for i in data:\n",
        "    film, actors = i\n",
        "    cast = re.split(r' ,|, |,', actors)\n",
        "    uniqueActors = uniqueActors.union(set(cast))\n",
        "    updateData.append((film, cast))"
      ],
      "metadata": {
        "id": "DVflfMjBc8e-"
      },
      "execution_count": 12,
      "outputs": []
    },
    {
      "cell_type": "code",
      "source": [
        "connectionActors = sqlite3.connect('task1.sqlite')\n",
        "cursorActors = connectionActors.cursor()\n",
        "for actor in uniqueActors:\n",
        "    cursorActors.execute(\"INSERT INTO actors VALUES (NULL, ?)\", (actor,))\n",
        "connectionActors.commit()\n",
        "connectionActors.close()"
      ],
      "metadata": {
        "id": "jJhhLVHmgvrN"
      },
      "execution_count": 13,
      "outputs": []
    },
    {
      "cell_type": "code",
      "source": [
        "connectionFilms = sqlite3.connect('task1.sqlite')\n",
        "cursorMovies = connectionFilms.cursor()\n",
        "for i in updateData:\n",
        "    film, actors = i\n",
        "    cursorMovies.execute(\"INSERT INTO movies VALUES (NULL, ?)\", (film,))\n",
        "connectionFilms.commit()\n",
        "connectionFilms.close()"
      ],
      "metadata": {
        "id": "r8wIXwhdhCib"
      },
      "execution_count": 15,
      "outputs": []
    },
    {
      "cell_type": "code",
      "source": [
        "connectionActorFilm = sqlite3.connect('task1.sqlite')\n",
        "cursorActors = connectionActorFilm.cursor()\n",
        "cursorFilms = connectionActorFilm.cursor()\n",
        "cursorActorFilm = connectionActorFilm.cursor()\n",
        "for i in updateData:\n",
        "    film, actors = i\n",
        "    cursorActorFilm.execute('SELECT id FROM movies WHERE title = ?', (film,))\n",
        "    uniqueFilm = cursorActorFilm.fetchone()\n",
        "    for actor in actors:\n",
        "        cursorActors.execute('SELECT id FROM actors WHERE name = ?', (actor,))\n",
        "        uniqueActor = cursorActors.fetchone()\n",
        "        cursorActorFilm.execute(\"INSERT INTO actor_movie (actor_id, movie_id) VALUES (?, ?)\", (uniqueActor[0], uniqueFilm[0]))\n",
        "connectionActorFilm.commit()\n",
        "connectionActorFilm.close()"
      ],
      "metadata": {
        "id": "B4C-NjJThkb7"
      },
      "execution_count": 16,
      "outputs": []
    },
    {
      "cell_type": "code",
      "source": [
        "connectionFindActors = sqlite3.connect('task1.sqlite')\n",
        "cursorFindActors = connectionFindActors.cursor()\n",
        "cursorFindActors.execute('''\n",
        "    SELECT a1.name AS actor1_name, a2.name AS actor2_name, COUNT(*) AS movies_together\n",
        "    FROM actor_movie am1\n",
        "    JOIN actor_movie am2 ON am1.movie_id = am2.movie_id AND am1.actor_id < am2.actor_id\n",
        "    JOIN actors a1 ON am1.actor_id = a1.id\n",
        "    JOIN actors a2 ON am2.actor_id = a2.id\n",
        "    GROUP BY actor1_name, actor2_name\n",
        "    ORDER BY movies_together DESC\n",
        "    LIMIT 1\n",
        "''')\n",
        "actors = cursorFindActors.fetchone()\n",
        "print(f\"Наиболее часто работающая друг с другом пара актеров: {actors[0]} и {actors[1]}\")\n",
        "connectionFindActors.close()"
      ],
      "metadata": {
        "colab": {
          "base_uri": "https://localhost:8080/"
        },
        "id": "04sykmXTkNsQ",
        "outputId": "737bee64-5ac8-4625-ab8c-b5e0c14acf37"
      },
      "execution_count": 18,
      "outputs": [
        {
          "output_type": "stream",
          "name": "stdout",
          "text": [
            "Наиболее часто работающая друг с другом пара актеров: Robb Wells и John Paul Tremblay\n"
          ]
        }
      ]
    }
  ]
}